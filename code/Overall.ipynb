{
 "cells": [
  {
   "cell_type": "code",
   "execution_count": 33,
   "metadata": {},
   "outputs": [],
   "source": [
    "from collections import Counter, defaultdict\n",
    "import pandas as pd\n",
    "import numpy as np\n",
    "import string\n",
    "import pickle\n",
    "import json\n",
    "import re\n",
    "import os"
   ]
  },
  {
   "cell_type": "code",
   "execution_count": 34,
   "metadata": {},
   "outputs": [],
   "source": [
    "import pymorphy2\n",
    "\n",
    "morph = pymorphy2.MorphAnalyzer()"
   ]
  },
  {
   "cell_type": "code",
   "execution_count": 35,
   "metadata": {},
   "outputs": [],
   "source": [
    "path = 'database.csv'\n",
    "data= pd.read_csv(path)"
   ]
  },
  {
   "cell_type": "code",
   "execution_count": 36,
   "metadata": {},
   "outputs": [
    {
     "data": {
      "text/html": [
       "<div>\n",
       "<style scoped>\n",
       "    .dataframe tbody tr th:only-of-type {\n",
       "        vertical-align: middle;\n",
       "    }\n",
       "\n",
       "    .dataframe tbody tr th {\n",
       "        vertical-align: top;\n",
       "    }\n",
       "\n",
       "    .dataframe thead th {\n",
       "        text-align: right;\n",
       "    }\n",
       "</style>\n",
       "<table border=\"1\" class=\"dataframe\">\n",
       "  <thead>\n",
       "    <tr style=\"text-align: right;\">\n",
       "      <th></th>\n",
       "      <th>Название</th>\n",
       "      <th>Местоположение</th>\n",
       "      <th>Часовой пояс</th>\n",
       "      <th>Улица</th>\n",
       "      <th>Примечание</th>\n",
       "      <th>Адрес</th>\n",
       "      <th>На карте</th>\n",
       "      <th>Описание</th>\n",
       "      <th>Адрес сайта</th>\n",
       "      <th>Адрес электронной почты</th>\n",
       "      <th>...</th>\n",
       "      <th>Types[]</th>\n",
       "      <th>Start</th>\n",
       "      <th>ID места ЕИПСК</th>\n",
       "      <th>ServiceName</th>\n",
       "      <th>ЕИПСК</th>\n",
       "      <th>Культура.РФ</th>\n",
       "      <th>Госкаталог</th>\n",
       "      <th>Статистика</th>\n",
       "      <th>Дата создания записи</th>\n",
       "      <th>Дата последнего обновления записи</th>\n",
       "    </tr>\n",
       "  </thead>\n",
       "  <tbody>\n",
       "    <tr>\n",
       "      <th>0</th>\n",
       "      <td>Аксёновская сельская библиотека-филиал № 4</td>\n",
       "      <td>Галичский район</td>\n",
       "      <td>Europe/Moscow</td>\n",
       "      <td>д. Аксёново, 24</td>\n",
       "      <td>NaN</td>\n",
       "      <td>NaN</td>\n",
       "      <td>{\"coordinates\":[42.50301500000001,58.309780999...</td>\n",
       "      <td>&lt;p style=\"text-align:left\"&gt;&lt;span&gt;Библиотека ос...</td>\n",
       "      <td>NaN</td>\n",
       "      <td>biblioteka-gorkogo.galich@yandex.ru</td>\n",
       "      <td>...</td>\n",
       "      <td>NaN</td>\n",
       "      <td>NaN</td>\n",
       "      <td>25431</td>\n",
       "      <td>[{\"serviceName\":\"Культура.рф\"}]</td>\n",
       "      <td>NaN</td>\n",
       "      <td>NaN</td>\n",
       "      <td>NaN</td>\n",
       "      <td>NaN</td>\n",
       "      <td>2016-10-20T07:48:12Z</td>\n",
       "      <td>2016-10-24T14:07:12Z</td>\n",
       "    </tr>\n",
       "    <tr>\n",
       "      <th>1</th>\n",
       "      <td>Мелёшинская сельская библиотека-филиал № 15</td>\n",
       "      <td>Галичский район</td>\n",
       "      <td>Europe/Moscow</td>\n",
       "      <td>д. Мелёшино, ул. Центральная, 16</td>\n",
       "      <td>NaN</td>\n",
       "      <td>NaN</td>\n",
       "      <td>{\"coordinates\":[42.54122,58.438008],\"type\":\"Po...</td>\n",
       "      <td>&lt;p style=\"text-align:left\"&gt;&lt;span&gt; Библиотека о...</td>\n",
       "      <td>NaN</td>\n",
       "      <td>biblioteka-gorkogo.galich@yandex.ru</td>\n",
       "      <td>...</td>\n",
       "      <td>NaN</td>\n",
       "      <td>NaN</td>\n",
       "      <td>25427</td>\n",
       "      <td>[{\"serviceName\":\"Культура.рф\"},{\"serviceName\":...</td>\n",
       "      <td>NaN</td>\n",
       "      <td>NaN</td>\n",
       "      <td>NaN</td>\n",
       "      <td>NaN</td>\n",
       "      <td>2016-10-20T06:05:30Z</td>\n",
       "      <td>2016-10-24T13:57:48Z</td>\n",
       "    </tr>\n",
       "  </tbody>\n",
       "</table>\n",
       "<p>2 rows × 52 columns</p>\n",
       "</div>"
      ],
      "text/plain": [
       "                                      Название   Местоположение  \\\n",
       "0   Аксёновская сельская библиотека-филиал № 4  Галичский район   \n",
       "1  Мелёшинская сельская библиотека-филиал № 15  Галичский район   \n",
       "\n",
       "    Часовой пояс                             Улица Примечание Адрес  \\\n",
       "0  Europe/Moscow                   д. Аксёново, 24        NaN   NaN   \n",
       "1  Europe/Moscow  д. Мелёшино, ул. Центральная, 16        NaN   NaN   \n",
       "\n",
       "                                            На карте  \\\n",
       "0  {\"coordinates\":[42.50301500000001,58.309780999...   \n",
       "1  {\"coordinates\":[42.54122,58.438008],\"type\":\"Po...   \n",
       "\n",
       "                                            Описание Адрес сайта  \\\n",
       "0  <p style=\"text-align:left\"><span>Библиотека ос...         NaN   \n",
       "1  <p style=\"text-align:left\"><span> Библиотека о...         NaN   \n",
       "\n",
       "               Адрес электронной почты  ... Types[] Start ID места ЕИПСК  \\\n",
       "0  biblioteka-gorkogo.galich@yandex.ru  ...     NaN   NaN          25431   \n",
       "1  biblioteka-gorkogo.galich@yandex.ru  ...     NaN   NaN          25427   \n",
       "\n",
       "                                         ServiceName ЕИПСК Культура.РФ  \\\n",
       "0                    [{\"serviceName\":\"Культура.рф\"}]   NaN         NaN   \n",
       "1  [{\"serviceName\":\"Культура.рф\"},{\"serviceName\":...   NaN         NaN   \n",
       "\n",
       "  Госкаталог Статистика  Дата создания записи  \\\n",
       "0        NaN        NaN  2016-10-20T07:48:12Z   \n",
       "1        NaN        NaN  2016-10-20T06:05:30Z   \n",
       "\n",
       "   Дата последнего обновления записи  \n",
       "0               2016-10-24T14:07:12Z  \n",
       "1               2016-10-24T13:57:48Z  \n",
       "\n",
       "[2 rows x 52 columns]"
      ]
     },
     "execution_count": 36,
     "metadata": {},
     "output_type": "execute_result"
    }
   ],
   "source": [
    "data.head(2)"
   ]
  },
  {
   "cell_type": "code",
   "execution_count": 4,
   "metadata": {},
   "outputs": [],
   "source": [
    "data['lon'] = [json.loads(i)['coordinates'][0] for i in data['На карте']]\n",
    "data['lat'] = [json.loads(i)['coordinates'][1] for i in data['На карте']]"
   ]
  },
  {
   "cell_type": "markdown",
   "metadata": {},
   "source": [
    "# Принадлежность"
   ]
  },
  {
   "cell_type": "code",
   "execution_count": 15,
   "metadata": {},
   "outputs": [],
   "source": [
    "import matplotlib.pyplot as plt"
   ]
  },
  {
   "cell_type": "code",
   "execution_count": 16,
   "metadata": {},
   "outputs": [
    {
     "data": {
      "image/png": "[encoded data removed]",
      "text/plain": [
       "<Figure size 1296x576 with 1 Axes>"
      ]
     },
     "metadata": {
      "needs_background": "light"
     },
     "output_type": "display_data"
    }
   ],
   "source": [
    "fig = plt.figure(figsize = (18, 8))\n",
    "ax = fig.gca()\n",
    "\n",
    "data.groupby('Принадлежность').size().plot.bar(rot=0, color='skyblue', ax=ax)\n",
    "plt.xlabel('Принадлежность')\n",
    "plt.ylabel('Количество')\n",
    "plt.title('Количество библиотеки в зависимости от типа принадлежности')\n",
    "ax.set_axisbelow(True)\n",
    "ax.yaxis.grid(color='gainsboro', linestyle='dashed')\n",
    "ax.xaxis.grid(color='gainsboro', linestyle='dashed')\n"
   ]
  },
  {
   "cell_type": "markdown",
   "metadata": {},
   "source": [
    "# СТАТИСТИКА"
   ]
  },
  {
   "cell_type": "code",
   "execution_count": null,
   "metadata": {},
   "outputs": [],
   "source": [
    "path = \"region_stat_45k.json/\"\n",
    "\n",
    "res = []\n",
    "indexs = []\n",
    "\n",
    "for i in range(1, 6):\n",
    "    path2 = path + str(i) + '.json' \n",
    "    \n",
    "    with open(path2) as json_file:\n",
    "        stat = json.load(json_file)\n",
    "        \n",
    "        for line in stat:\n",
    "            x = line['data']['source']['longitude']\n",
    "            y = line['data']['source']['longitude']\n",
    "\n",
    "            var1 = data[(data['lon'] == x) & (data['lon'] == y)]\n",
    "            var2 = data[(data['lon'] == y) & (data['lon'] == x)]\n",
    "\n",
    "            if not var1.empty:\n",
    "                res.append(var1.index)\n",
    "                indexs.append(line)\n",
    "            elif not var2.empty:\n",
    "                res.append(var2.index)\n",
    "                indexs.append(line)\n",
    "            "
   ]
  },
  {
   "cell_type": "code",
   "execution_count": 30,
   "metadata": {},
   "outputs": [
    {
     "data": {
      "text/plain": [
       "(114, 114)"
      ]
     },
     "execution_count": 30,
     "metadata": {},
     "output_type": "execute_result"
    }
   ],
   "source": [
    "len(res), len(indexs)"
   ]
  },
  {
   "cell_type": "markdown",
   "metadata": {},
   "source": [
    "## JSON Библиотеки"
   ]
  },
  {
   "cell_type": "code",
   "execution_count": null,
   "metadata": {},
   "outputs": [],
   "source": [
    "path = 'data-26-structure-2.json'"
   ]
  },
  {
   "cell_type": "code",
   "execution_count": null,
   "metadata": {},
   "outputs": [],
   "source": [
    "with open(path) as json_file:\n",
    "    libr = json.load(json_file)"
   ]
  },
  {
   "cell_type": "markdown",
   "metadata": {},
   "source": [
    "## Заполненность"
   ]
  },
  {
   "cell_type": "code",
   "execution_count": 38,
   "metadata": {},
   "outputs": [],
   "source": [
    "def how_full(data, column):\n",
    "    rcount = data[column].shape[0]\n",
    "    not_empty = data[column].count()\n",
    "    return (not_empty / rcount)*  100\n",
    "\n",
    "d = {'filed': [], 'value': []}\n",
    "\n",
    "for column in data.columns:\n",
    "    d['value'].append(how_full(data, column))\n",
    "    d['filed'].append(column)"
   ]
  },
  {
   "cell_type": "code",
   "execution_count": 39,
   "metadata": {},
   "outputs": [],
   "source": [
    "fullness = pd.DataFrame(d)\n",
    "path = 'overall/{}.tsv'\n",
    "fullness.to_csv(path.format('occupancy'), sep=';', index=False)"
   ]
  },
  {
   "cell_type": "code",
   "execution_count": 40,
   "metadata": {},
   "outputs": [
    {
     "data": {
      "text/plain": [
       "59.01102354590727"
      ]
     },
     "execution_count": 40,
     "metadata": {},
     "output_type": "execute_result"
    }
   ],
   "source": [
    "np.mean(fullness.value)"
   ]
  },
  {
   "cell_type": "markdown",
   "metadata": {},
   "source": [
    "# Топ нграмм"
   ]
  },
  {
   "cell_type": "code",
   "execution_count": 20,
   "metadata": {},
   "outputs": [],
   "source": [
    "from nltk.util import ngrams \n",
    "import pymorphy2\n",
    "import sklearn\n",
    "\n",
    "morph = pymorphy2.MorphAnalyzer()"
   ]
  },
  {
   "cell_type": "code",
   "execution_count": 21,
   "metadata": {},
   "outputs": [],
   "source": [
    "with open('decript_clean.txt', 'r', encoding='utf-8') as f:\n",
    "    texts = f.read()\n",
    "    texts = texts.split('\\n')"
   ]
  },
  {
   "cell_type": "code",
   "execution_count": 22,
   "metadata": {},
   "outputs": [],
   "source": [
    "def text_cleaning(text):\n",
    "    text = re.sub('<.*?>|\\xad','',text)\n",
    "    text = re.sub(\"[\" + string.punctuation + \"]\", \" \", text)\n",
    "    text = re.sub('\\s+', ' ', text).strip()\n",
    "    return text.lower()\n",
    "\n",
    "def word_tok(text):\n",
    "    text = text_cleaning(text)\n",
    "#     text = [morph.parse(word)[0].normal_form for word in text.split()]\n",
    "    return text.split()"
   ]
  },
  {
   "cell_type": "code",
   "execution_count": 23,
   "metadata": {},
   "outputs": [],
   "source": [
    "def top_ngrams(text, num_n, top, all_=False):\n",
    "    grams = ngrams(text, num_n)\n",
    "    gram_freq = Counter(grams)\n",
    "    if all_: return gram_freq\n",
    "    return gram_freq.most_common(top)"
   ]
  },
  {
   "cell_type": "code",
   "execution_count": 24,
   "metadata": {},
   "outputs": [],
   "source": [
    "all_descrip2 = ' '.join(texts)\n",
    "all_descrip2 = text_cleaning(all_descrip2)\n",
    "words_desc2 = word_tok(all_descrip2)"
   ]
  },
  {
   "cell_type": "code",
   "execution_count": null,
   "metadata": {},
   "outputs": [],
   "source": [
    "bigrams2 = top_ngrams(words_desc2, 2, 50)\n",
    "trigrams2 = top_ngrams(words_desc2, 3, 50)"
   ]
  },
  {
   "cell_type": "code",
   "execution_count": null,
   "metadata": {},
   "outputs": [],
   "source": [
    "freqs = []\n",
    "\n",
    "for index in range(50):\n",
    "    bigr = bigrams2[index]\n",
    "    trigr = trigrams2[index]\n",
    "    \n",
    "    for part in [bigrams2, trigrams2]:\n",
    "        if '–' not in part[index][0]:\n",
    "            freqs.append(part[index])\n",
    "#         freqs[part[index][0]] = part[index][1]"
   ]
  },
  {
   "cell_type": "code",
   "execution_count": null,
   "metadata": {},
   "outputs": [],
   "source": [
    "freqs = sorted(freqs, key=lambda x: x[1], reverse=True)\n",
    "freqs = freqs[:55]\n",
    "freqs_values = [i[1] for i in freqs]"
   ]
  },
  {
   "cell_type": "code",
   "execution_count": null,
   "metadata": {},
   "outputs": [],
   "source": [
    "freqs_values = sklearn.preprocessing.scale(freqs_values) + 3\n",
    "freqs_values = np.round(freqs_values)"
   ]
  },
  {
   "cell_type": "code",
   "execution_count": null,
   "metadata": {},
   "outputs": [],
   "source": [
    "with open('overall/bigrams_trigrams.txt', 'w', encoding='utf-8') as f:\n",
    "    for index in range(55):\n",
    "        for _ in range(int(freqs_values[index])):\n",
    "            f.write('_'.join(freqs[index][0]) + ',')"
   ]
  },
  {
   "cell_type": "markdown",
   "metadata": {},
   "source": [
    "## ФОРМИРОВАНИЕ ПРЕДСТАВЛЕНИЙ ДЛЯ БАЗЫ"
   ]
  },
  {
   "cell_type": "code",
   "execution_count": 41,
   "metadata": {},
   "outputs": [],
   "source": [
    "library_id = data['Название'].tolist()"
   ]
  },
  {
   "cell_type": "markdown",
   "metadata": {},
   "source": [
    "## GAINED DATA"
   ]
  },
  {
   "cell_type": "markdown",
   "metadata": {},
   "source": [
    "#### Открытие"
   ]
  },
  {
   "cell_type": "code",
   "execution_count": 42,
   "metadata": {},
   "outputs": [],
   "source": [
    "def open_file(name):\n",
    "    if name.endswith('pickle'):\n",
    "        with open(name, 'rb') as f:\n",
    "            data = pickle.load(f)\n",
    "    elif name.endswith('txt'):\n",
    "        with open(name, 'r', encoding='utf-8') as f:\n",
    "            data = f.read()\n",
    "            data = data.split('\\n')\n",
    "    elif name.endswith('csv'):\n",
    "        data = pd.read_csv(name, sep=';')\n",
    "    elif name.endswith('tsv'):\n",
    "        data = pd.read_csv(name, sep='\\t')\n",
    "    return data"
   ]
  },
  {
   "cell_type": "code",
   "execution_count": 43,
   "metadata": {},
   "outputs": [],
   "source": [
    "def convert_data(data, type_='date'):\n",
    "    data2 = []\n",
    "    for item in data:\n",
    "        if item != '':\n",
    "            if type_ == 'date':\n",
    "                item = int(re.findall('[0-9]{4}', item)[0])\n",
    "            elif type_ == 'izba':\n",
    "                item = 'True'\n",
    "            elif type_ == 'fond':\n",
    "                item = int(item.split(';')[0])\n",
    "        else: item = None\n",
    "        data2.append(item)\n",
    "    return data2"
   ]
  },
  {
   "cell_type": "code",
   "execution_count": 44,
   "metadata": {},
   "outputs": [],
   "source": [
    "nrows, ncols = data.shape"
   ]
  },
  {
   "cell_type": "code",
   "execution_count": 45,
   "metadata": {},
   "outputs": [],
   "source": [
    "LIBRINFO = {'library_id': list(range(nrows))}"
   ]
  },
  {
   "cell_type": "code",
   "execution_count": 46,
   "metadata": {},
   "outputs": [],
   "source": [
    "path = 'open_dates_new.txt'\n",
    "open_dates = open_file(path)\n",
    "LIBRINFO['open_year'] = convert_data(open_dates)"
   ]
  },
  {
   "cell_type": "markdown",
   "metadata": {},
   "source": [
    "#### FONDS"
   ]
  },
  {
   "cell_type": "code",
   "execution_count": 47,
   "metadata": {},
   "outputs": [],
   "source": [
    "path = 'fond_numbers.txt'\n",
    "fond = open_file(path)\n",
    "LIBRINFO['fond_numbers'] = convert_data(fond, type_='fond')"
   ]
  },
  {
   "cell_type": "markdown",
   "metadata": {},
   "source": [
    "#### Изба-читальня \n"
   ]
  },
  {
   "cell_type": "code",
   "execution_count": 33,
   "metadata": {},
   "outputs": [],
   "source": [
    "path = 'izba.txt'\n",
    "izba = open_file(path)\n",
    "LIBRINFO['izba'] = convert_data(izba, type_='izba')"
   ]
  },
  {
   "cell_type": "markdown",
   "metadata": {},
   "source": [
    "#### Читатели"
   ]
  },
  {
   "cell_type": "code",
   "execution_count": 64,
   "metadata": {},
   "outputs": [],
   "source": [
    "STR_NUM = {'полтора': 1.5, 'два': 2,\n",
    "           'три': 3, 'четыре': 4,\n",
    "           'пять': 5, 'шесть': 6,\n",
    "           'семь': 7, 'восемь': 8,\n",
    "           'девять': 9, 'десять': 10,}\n",
    "\n",
    "\n",
    "def str_to_num(x):\n",
    "    global STR_NUM\n",
    "    p = morph.parse(x)[0]\n",
    "    return STR_NUM.get(p.normal_form)\n",
    "\n",
    "\n",
    "def convert_str_to_int(v):\n",
    "    if ',' in v and '_' not in v: v += '_1000' \n",
    "    v = re.sub(',', '.', v)\n",
    "    v = re.sub(' ', '', v)\n",
    "    if '_' in v:        \n",
    "        number, z = v.split('_')\n",
    "        z = int(z)\n",
    "        if '.' in number:\n",
    "            n = float(number)\n",
    "            v = n * z\n",
    "        elif number.isalpha():\n",
    "            n = str_to_num(number)\n",
    "            v = n * z\n",
    "        else:\n",
    "            n = int(number)\n",
    "            if n/z > 1: v = n\n",
    "            else: v = n * z\n",
    "    elif '.' in v: v = float(v)    \n",
    "    else: v = int(v)        \n",
    "    return v\n",
    "\n",
    "\n",
    "def value_convert(values, type_='n_readers'):\n",
    "    res = []\n",
    "    for value in values:\n",
    "        if '-' in value:\n",
    "            for val in value.split('-'):\n",
    "                val = convert_str_to_int(val)\n",
    "                if type_ == 'n_readers' and val < 50: continue\n",
    "                else: res.append(val)\n",
    "        else: \n",
    "            val = convert_str_to_int(value)\n",
    "            if type_ == 'n_readers' and val < 50: continue\n",
    "            else: res.append(val)\n",
    "    if res:\n",
    "        if type_ == 'n_readers': return min(res)\n",
    "        return max(res)\n",
    "    return None\n",
    "    "
   ]
  },
  {
   "cell_type": "code",
   "execution_count": 66,
   "metadata": {},
   "outputs": [],
   "source": [
    "def pickle_data(nrows, data, type_='n_readers'):\n",
    "    data2 = []\n",
    "    for row in range(nrows):\n",
    "        value = data.get(row)\n",
    "        if value: \n",
    "            if type_ == 'area_surface': value = sum(value)\n",
    "            else: value = value_convert(value, type_=type_)\n",
    "        data2.append(value)\n",
    "    return data2"
   ]
  },
  {
   "cell_type": "code",
   "execution_count": 67,
   "metadata": {},
   "outputs": [],
   "source": [
    "path = 'new/n_readers.pickle'\n",
    "readers = open_file(path)\n",
    "LIBRINFO['n_readers'] = pickle_data(nrows, readers)"
   ]
  },
  {
   "cell_type": "markdown",
   "metadata": {},
   "source": [
    "### Посещения"
   ]
  },
  {
   "cell_type": "code",
   "execution_count": 68,
   "metadata": {},
   "outputs": [],
   "source": [
    "path = 'new/number_visits.tsv'\n",
    "nvis = open_file(path)\n",
    "# LIBRINFO['n_readers'] = pickle_data(nrows, readers)"
   ]
  },
  {
   "cell_type": "markdown",
   "metadata": {},
   "source": [
    "### в n году/ за n год"
   ]
  },
  {
   "cell_type": "code",
   "execution_count": 69,
   "metadata": {},
   "outputs": [],
   "source": [
    "with_year = nvis['year'].dropna().index\n",
    "with_year = set(with_year)"
   ]
  },
  {
   "cell_type": "code",
   "execution_count": 70,
   "metadata": {},
   "outputs": [],
   "source": [
    "in_year = nvis[nvis['prep'].isin([\"в\", \"за\"])]['n_days'].index\n",
    "in_year = set(in_year)\n",
    "in_year_index = with_year & in_year"
   ]
  },
  {
   "cell_type": "code",
   "execution_count": 71,
   "metadata": {},
   "outputs": [
    {
     "name": "stderr",
     "output_type": "stream",
     "text": [
      "/Library/Frameworks/Python.framework/Versions/3.6/lib/python3.6/site-packages/pandas/core/indexing.py:671: SettingWithCopyWarning: \n",
      "A value is trying to be set on a copy of a slice from a DataFrame\n",
      "\n",
      "See the caveats in the documentation: https://pandas.pydata.org/pandas-docs/stable/user_guide/indexing.html#returning-a-view-versus-a-copy\n",
      "  self._setitem_with_indexer(indexer, value)\n"
     ]
    }
   ],
   "source": [
    "for index in in_year_index:\n",
    "    nvis['n_days'].loc[index] = 365"
   ]
  },
  {
   "cell_type": "markdown",
   "metadata": {},
   "source": [
    "### на n год"
   ]
  },
  {
   "cell_type": "code",
   "execution_count": 72,
   "metadata": {},
   "outputs": [],
   "source": [
    "by_year = nvis[nvis['prep'] == \"на\"].index\n",
    "by_year = set(by_year)\n",
    "by_year_index = by_year & with_year"
   ]
  },
  {
   "cell_type": "code",
   "execution_count": 73,
   "metadata": {},
   "outputs": [],
   "source": [
    "for index in by_year_index:\n",
    "    date = LIBRINFO['open_year'][index]\n",
    "    if date:\n",
    "        duration = nvis['year'].loc[index] - date \n",
    "        nvis['n_days'].loc[index] = 365 * duration"
   ]
  },
  {
   "cell_type": "markdown",
   "metadata": {},
   "source": [
    "### с n года"
   ]
  },
  {
   "cell_type": "code",
   "execution_count": 74,
   "metadata": {},
   "outputs": [],
   "source": [
    "from_year = nvis[nvis['prep'] == \"с\"].index\n",
    "from_year = set(from_year)\n",
    "from_year_index = from_year & with_year"
   ]
  },
  {
   "cell_type": "code",
   "execution_count": 75,
   "metadata": {},
   "outputs": [],
   "source": [
    "for index in from_year_index:\n",
    "    res = 2019 - nvis['year'].loc[index]\n",
    "    nvis['n_days'].loc[index] = 365 * res"
   ]
  },
  {
   "cell_type": "markdown",
   "metadata": {},
   "source": [
    "##### Посещения в месяц"
   ]
  },
  {
   "cell_type": "code",
   "execution_count": 76,
   "metadata": {},
   "outputs": [],
   "source": [
    "filled_rows = nvis.dropna(subset=['n_visits']).index"
   ]
  },
  {
   "cell_type": "code",
   "execution_count": 77,
   "metadata": {},
   "outputs": [],
   "source": [
    "for index in filled_rows:\n",
    "    value = nvis['n_visits'][index]\n",
    "    value = convert_str_to_int(value)\n",
    "    if LIBRINFO['n_readers'][index] == value and value > 1000:\n",
    "        value = None\n",
    "    nvis['n_visits'].loc[index] = value"
   ]
  },
  {
   "cell_type": "code",
   "execution_count": 78,
   "metadata": {},
   "outputs": [],
   "source": [
    "nvis['n_days'] = np.round(nvis['n_days'] / 30)"
   ]
  },
  {
   "cell_type": "code",
   "execution_count": 79,
   "metadata": {},
   "outputs": [],
   "source": [
    "vis_per_month = []\n",
    "\n",
    "for index in range(nrows):\n",
    "    nv = nvis['n_visits'][index]\n",
    "    nd = nvis['n_days'][index]\n",
    "    value = None\n",
    "    if nv and nd: value = np.round(nv / nd)\n",
    "    vis_per_month.append(value)\n",
    "    \n",
    "LIBRINFO['visits_month'] = vis_per_month"
   ]
  },
  {
   "cell_type": "markdown",
   "metadata": {},
   "source": [
    "## Зона обслуживания"
   ]
  },
  {
   "cell_type": "code",
   "execution_count": 80,
   "metadata": {},
   "outputs": [],
   "source": [
    "path = 'new/servise_area.pickle'\n",
    "servise_area = open_file(path)\n",
    "LIBRINFO['servise_area'] = pickle_data(nrows, servise_area)"
   ]
  },
  {
   "cell_type": "markdown",
   "metadata": {},
   "source": [
    "## Площади библиотек"
   ]
  },
  {
   "cell_type": "code",
   "execution_count": 81,
   "metadata": {},
   "outputs": [],
   "source": [
    "path = 'new/area_surface.pickle'\n",
    "area_surface = open_file(path)\n",
    "LIBRINFO['area_surface'] = pickle_data(nrows, area_surface, type_='area_surface')"
   ]
  },
  {
   "cell_type": "markdown",
   "metadata": {},
   "source": [
    "## Площади фондов"
   ]
  },
  {
   "cell_type": "code",
   "execution_count": 82,
   "metadata": {},
   "outputs": [],
   "source": [
    "path = 'new/book_storage.pickle'\n",
    "book_storage = open_file(path)\n",
    "LIBRINFO['book_storage'] = pickle_data(nrows, book_storage, type_='area_surface')"
   ]
  },
  {
   "cell_type": "markdown",
   "metadata": {},
   "source": [
    "## Площади читальных залов"
   ]
  },
  {
   "cell_type": "code",
   "execution_count": 83,
   "metadata": {},
   "outputs": [],
   "source": [
    "path = 'new/public_area.pickle'\n",
    "public_area = open_file(path)\n",
    "LIBRINFO['public_area'] = pickle_data(nrows, public_area, type_='area_surface')"
   ]
  },
  {
   "cell_type": "markdown",
   "metadata": {},
   "source": [
    "### Жанры"
   ]
  },
  {
   "cell_type": "code",
   "execution_count": 33,
   "metadata": {},
   "outputs": [],
   "source": [
    "path = 'new/book_geners.pickle'\n",
    "geners = open_file(path)"
   ]
  },
  {
   "cell_type": "code",
   "execution_count": 34,
   "metadata": {},
   "outputs": [],
   "source": [
    "needed = ['газета', 'география', 'аудиовизуальный материал', 'другой иностранный язык',\n",
    "          'детский', 'естествознание', 'журнал', 'кассета',\n",
    "          'краеведение', 'крымскотатарский язык', 'литературоведение',\n",
    "          'медицинский литература', 'методический', 'мусульманский',\n",
    "          'отраслевой', 'периодика','подросток','редкий книга', 'чувашский язык',\n",
    "          'русский язык', 'сельский хозяйство', 'спорт', 'справочный литература', 'татарский язык', 'техника',\n",
    "          'художественный']"
   ]
  },
  {
   "cell_type": "code",
   "execution_count": 37,
   "metadata": {},
   "outputs": [],
   "source": [
    "renamed = {'естественнонаучный': 'естествознание',\n",
    "           'естественнонаучный литература': 'естествознание', \n",
    "           'естествознание': 'естествознание',\n",
    "           'краеведение': 'краеведение',\n",
    "           'краеведческий': 'краеведение', \n",
    "           'краеведческий издание': 'краеведение',\n",
    "           'краеведческий литература': 'краеведение',\n",
    "           'отраслевой': 'отраслевой', 'отраслевой и': 'отраслевой',\n",
    "           'отраслевой литература': 'отраслевой', \n",
    "           'художественный': 'художественный',\n",
    "           'художественный литература': 'художественный',\n",
    "           'это художественный литература': 'художественный'}"
   ]
  },
  {
   "cell_type": "code",
   "execution_count": 38,
   "metadata": {},
   "outputs": [],
   "source": [
    "fond = {}\n",
    "extradition = {}\n",
    "# res = {key:[None]*9546 for key in needed}\n",
    "genre_freq = {key:0 for key in needed}\n",
    "libr_genre = []\n",
    "\n",
    "for index in range(nrows): #genres:\n",
    "    inf = geners.get(index)\n",
    "    lgenres = []\n",
    "    if inf:\n",
    "        for name in inf: #geners[index]:\n",
    "            n = convert_str_to_int(geners[index][name])\n",
    "            if 'фонд' in name:\n",
    "                fond[index] = n\n",
    "            elif 'выдача' in name:\n",
    "                extradition[index] = n\n",
    "            if 'детский' in name:1\n",
    "#                 res['детский'].[index] = n\n",
    "            else:\n",
    "                gn = renamed.get(name)\n",
    "                if gn: name = gn\n",
    "                if name in needed: \n",
    "                    genre_freq[name] += 1\n",
    "                    lgenres.append(name)\n",
    "    if not lgenres: lgenres = None\n",
    "    libr_genre.append(lgenres)"
   ]
  },
  {
   "cell_type": "code",
   "execution_count": 39,
   "metadata": {},
   "outputs": [],
   "source": [
    "LIBRINFO['litr_genres'] = libr_genre"
   ]
  },
  {
   "cell_type": "code",
   "execution_count": 40,
   "metadata": {},
   "outputs": [],
   "source": [
    "for index in fond:\n",
    "    LIBRINFO['fond_numbers'][index] = fond[index]"
   ]
  },
  {
   "cell_type": "code",
   "execution_count": 348,
   "metadata": {},
   "outputs": [],
   "source": [
    "with open('overall/genre_freq.csv', 'w', encoding='utf-8') as f:\n",
    "    for i in genre_freq:\n",
    "        f.write('{};{}\\n'.format(i, genre_freq[i]))"
   ]
  },
  {
   "cell_type": "markdown",
   "metadata": {},
   "source": [
    "## OVERALL"
   ]
  },
  {
   "cell_type": "code",
   "execution_count": 53,
   "metadata": {},
   "outputs": [],
   "source": [
    "LIBR = pd.DataFrame(LIBRINFO)"
   ]
  },
  {
   "cell_type": "markdown",
   "metadata": {},
   "source": [
    "## Кто какую информацию сообшал"
   ]
  },
  {
   "cell_type": "code",
   "execution_count": 85,
   "metadata": {},
   "outputs": [],
   "source": [
    "path = 'new/libr_region_name.txt'"
   ]
  },
  {
   "cell_type": "code",
   "execution_count": 86,
   "metadata": {},
   "outputs": [],
   "source": [
    "region_names = open_file(path)"
   ]
  },
  {
   "cell_type": "code",
   "execution_count": 87,
   "metadata": {},
   "outputs": [],
   "source": [
    "LIBR['region'] = region_names"
   ]
  },
  {
   "cell_type": "code",
   "execution_count": 88,
   "metadata": {
    "scrolled": true
   },
   "outputs": [
    {
     "data": {
      "text/html": [
       "<div>\n",
       "<style scoped>\n",
       "    .dataframe tbody tr th:only-of-type {\n",
       "        vertical-align: middle;\n",
       "    }\n",
       "\n",
       "    .dataframe tbody tr th {\n",
       "        vertical-align: top;\n",
       "    }\n",
       "\n",
       "    .dataframe thead th {\n",
       "        text-align: right;\n",
       "    }\n",
       "</style>\n",
       "<table border=\"1\" class=\"dataframe\">\n",
       "  <thead>\n",
       "    <tr style=\"text-align: right;\">\n",
       "      <th></th>\n",
       "      <th>library_id</th>\n",
       "      <th>open_year</th>\n",
       "      <th>fond_numbers</th>\n",
       "      <th>izba</th>\n",
       "      <th>n_readers</th>\n",
       "      <th>visits_month</th>\n",
       "      <th>servise_area</th>\n",
       "      <th>area_surface</th>\n",
       "      <th>book_storage</th>\n",
       "      <th>public_area</th>\n",
       "      <th>region</th>\n",
       "    </tr>\n",
       "  </thead>\n",
       "  <tbody>\n",
       "    <tr>\n",
       "      <th>0</th>\n",
       "      <td>0</td>\n",
       "      <td>1973.0</td>\n",
       "      <td>3306.0</td>\n",
       "      <td>None</td>\n",
       "      <td>91.0</td>\n",
       "      <td>NaN</td>\n",
       "      <td>100.0</td>\n",
       "      <td>NaN</td>\n",
       "      <td>NaN</td>\n",
       "      <td>NaN</td>\n",
       "      <td>костромская</td>\n",
       "    </tr>\n",
       "    <tr>\n",
       "      <th>1</th>\n",
       "      <td>1</td>\n",
       "      <td>1945.0</td>\n",
       "      <td>5787.0</td>\n",
       "      <td>None</td>\n",
       "      <td>NaN</td>\n",
       "      <td>NaN</td>\n",
       "      <td>190.0</td>\n",
       "      <td>NaN</td>\n",
       "      <td>NaN</td>\n",
       "      <td>NaN</td>\n",
       "      <td>костромская</td>\n",
       "    </tr>\n",
       "  </tbody>\n",
       "</table>\n",
       "</div>"
      ],
      "text/plain": [
       "   library_id  open_year  fond_numbers  izba  n_readers  visits_month  \\\n",
       "0           0     1973.0        3306.0  None       91.0           NaN   \n",
       "1           1     1945.0        5787.0  None        NaN           NaN   \n",
       "\n",
       "   servise_area  area_surface  book_storage  public_area       region  \n",
       "0         100.0           NaN           NaN          NaN  костромская  \n",
       "1         190.0           NaN           NaN          NaN  костромская  "
      ]
     },
     "execution_count": 88,
     "metadata": {},
     "output_type": "execute_result"
    }
   ],
   "source": [
    "LIBR.head(2)"
   ]
  },
  {
   "cell_type": "code",
   "execution_count": 89,
   "metadata": {},
   "outputs": [],
   "source": [
    "stat_counts = LIBR.groupby('region').count()"
   ]
  },
  {
   "cell_type": "code",
   "execution_count": 90,
   "metadata": {},
   "outputs": [
    {
     "data": {
      "text/html": [
       "<div>\n",
       "<style scoped>\n",
       "    .dataframe tbody tr th:only-of-type {\n",
       "        vertical-align: middle;\n",
       "    }\n",
       "\n",
       "    .dataframe tbody tr th {\n",
       "        vertical-align: top;\n",
       "    }\n",
       "\n",
       "    .dataframe thead th {\n",
       "        text-align: right;\n",
       "    }\n",
       "</style>\n",
       "<table border=\"1\" class=\"dataframe\">\n",
       "  <thead>\n",
       "    <tr style=\"text-align: right;\">\n",
       "      <th></th>\n",
       "      <th>library_id</th>\n",
       "      <th>open_year</th>\n",
       "      <th>fond_numbers</th>\n",
       "      <th>izba</th>\n",
       "      <th>n_readers</th>\n",
       "      <th>visits_month</th>\n",
       "      <th>servise_area</th>\n",
       "      <th>area_surface</th>\n",
       "      <th>book_storage</th>\n",
       "      <th>public_area</th>\n",
       "    </tr>\n",
       "    <tr>\n",
       "      <th>region</th>\n",
       "      <th></th>\n",
       "      <th></th>\n",
       "      <th></th>\n",
       "      <th></th>\n",
       "      <th></th>\n",
       "      <th></th>\n",
       "      <th></th>\n",
       "      <th></th>\n",
       "      <th></th>\n",
       "      <th></th>\n",
       "    </tr>\n",
       "  </thead>\n",
       "  <tbody>\n",
       "    <tr>\n",
       "      <th>адыгея</th>\n",
       "      <td>20</td>\n",
       "      <td>12</td>\n",
       "      <td>14</td>\n",
       "      <td>0</td>\n",
       "      <td>13</td>\n",
       "      <td>8</td>\n",
       "      <td>0</td>\n",
       "      <td>0</td>\n",
       "      <td>0</td>\n",
       "      <td>0</td>\n",
       "    </tr>\n",
       "    <tr>\n",
       "      <th>алтай</th>\n",
       "      <td>5</td>\n",
       "      <td>1</td>\n",
       "      <td>3</td>\n",
       "      <td>0</td>\n",
       "      <td>2</td>\n",
       "      <td>0</td>\n",
       "      <td>0</td>\n",
       "      <td>0</td>\n",
       "      <td>0</td>\n",
       "      <td>0</td>\n",
       "    </tr>\n",
       "    <tr>\n",
       "      <th>алтайский</th>\n",
       "      <td>63</td>\n",
       "      <td>24</td>\n",
       "      <td>45</td>\n",
       "      <td>12</td>\n",
       "      <td>40</td>\n",
       "      <td>3</td>\n",
       "      <td>0</td>\n",
       "      <td>1</td>\n",
       "      <td>0</td>\n",
       "      <td>0</td>\n",
       "    </tr>\n",
       "    <tr>\n",
       "      <th>амурская</th>\n",
       "      <td>50</td>\n",
       "      <td>27</td>\n",
       "      <td>35</td>\n",
       "      <td>6</td>\n",
       "      <td>24</td>\n",
       "      <td>13</td>\n",
       "      <td>0</td>\n",
       "      <td>1</td>\n",
       "      <td>0</td>\n",
       "      <td>0</td>\n",
       "    </tr>\n",
       "    <tr>\n",
       "      <th>архангельская</th>\n",
       "      <td>88</td>\n",
       "      <td>49</td>\n",
       "      <td>60</td>\n",
       "      <td>12</td>\n",
       "      <td>40</td>\n",
       "      <td>5</td>\n",
       "      <td>0</td>\n",
       "      <td>7</td>\n",
       "      <td>0</td>\n",
       "      <td>0</td>\n",
       "    </tr>\n",
       "  </tbody>\n",
       "</table>\n",
       "</div>"
      ],
      "text/plain": [
       "               library_id  open_year  fond_numbers  izba  n_readers  \\\n",
       "region                                                                \n",
       "адыгея                 20         12            14     0         13   \n",
       "алтай                   5          1             3     0          2   \n",
       "алтайский              63         24            45    12         40   \n",
       "амурская               50         27            35     6         24   \n",
       "архангельская          88         49            60    12         40   \n",
       "\n",
       "               visits_month  servise_area  area_surface  book_storage  \\\n",
       "region                                                                  \n",
       "адыгея                    8             0             0             0   \n",
       "алтай                     0             0             0             0   \n",
       "алтайский                 3             0             1             0   \n",
       "амурская                 13             0             1             0   \n",
       "архангельская             5             0             7             0   \n",
       "\n",
       "               public_area  \n",
       "region                      \n",
       "адыгея                   0  \n",
       "алтай                    0  \n",
       "алтайский                0  \n",
       "амурская                 0  \n",
       "архангельская            0  "
      ]
     },
     "execution_count": 90,
     "metadata": {},
     "output_type": "execute_result"
    }
   ],
   "source": [
    "stat_counts.head()"
   ]
  },
  {
   "cell_type": "code",
   "execution_count": 91,
   "metadata": {},
   "outputs": [
    {
     "data": {
      "text/html": [
       "<div>\n",
       "<style scoped>\n",
       "    .dataframe tbody tr th:only-of-type {\n",
       "        vertical-align: middle;\n",
       "    }\n",
       "\n",
       "    .dataframe tbody tr th {\n",
       "        vertical-align: top;\n",
       "    }\n",
       "\n",
       "    .dataframe thead th {\n",
       "        text-align: right;\n",
       "    }\n",
       "</style>\n",
       "<table border=\"1\" class=\"dataframe\">\n",
       "  <thead>\n",
       "    <tr style=\"text-align: right;\">\n",
       "      <th></th>\n",
       "      <th>library_id</th>\n",
       "      <th>open_year</th>\n",
       "      <th>fond_numbers</th>\n",
       "      <th>izba</th>\n",
       "      <th>n_readers</th>\n",
       "      <th>visits_month</th>\n",
       "      <th>servise_area</th>\n",
       "      <th>area_surface</th>\n",
       "      <th>book_storage</th>\n",
       "      <th>public_area</th>\n",
       "    </tr>\n",
       "    <tr>\n",
       "      <th>region</th>\n",
       "      <th></th>\n",
       "      <th></th>\n",
       "      <th></th>\n",
       "      <th></th>\n",
       "      <th></th>\n",
       "      <th></th>\n",
       "      <th></th>\n",
       "      <th></th>\n",
       "      <th></th>\n",
       "      <th></th>\n",
       "    </tr>\n",
       "  </thead>\n",
       "  <tbody>\n",
       "    <tr>\n",
       "      <th>ингушетия</th>\n",
       "      <td>2</td>\n",
       "      <td>0</td>\n",
       "      <td>0</td>\n",
       "      <td>0</td>\n",
       "      <td>0</td>\n",
       "      <td>0</td>\n",
       "      <td>0</td>\n",
       "      <td>0</td>\n",
       "      <td>0</td>\n",
       "      <td>0</td>\n",
       "    </tr>\n",
       "    <tr>\n",
       "      <th>карачаево-черкесская</th>\n",
       "      <td>2</td>\n",
       "      <td>1</td>\n",
       "      <td>0</td>\n",
       "      <td>0</td>\n",
       "      <td>0</td>\n",
       "      <td>1</td>\n",
       "      <td>0</td>\n",
       "      <td>0</td>\n",
       "      <td>0</td>\n",
       "      <td>0</td>\n",
       "    </tr>\n",
       "    <tr>\n",
       "      <th>якутия</th>\n",
       "      <td>4</td>\n",
       "      <td>1</td>\n",
       "      <td>0</td>\n",
       "      <td>0</td>\n",
       "      <td>1</td>\n",
       "      <td>0</td>\n",
       "      <td>0</td>\n",
       "      <td>0</td>\n",
       "      <td>0</td>\n",
       "      <td>0</td>\n",
       "    </tr>\n",
       "  </tbody>\n",
       "</table>\n",
       "</div>"
      ],
      "text/plain": [
       "                      library_id  open_year  fond_numbers  izba  n_readers  \\\n",
       "region                                                                       \n",
       "ингушетия                      2          0             0     0          0   \n",
       "карачаево-черкесская           2          1             0     0          0   \n",
       "якутия                         4          1             0     0          1   \n",
       "\n",
       "                      visits_month  servise_area  area_surface  book_storage  \\\n",
       "region                                                                         \n",
       "ингушетия                        0             0             0             0   \n",
       "карачаево-черкесская             1             0             0             0   \n",
       "якутия                           0             0             0             0   \n",
       "\n",
       "                      public_area  \n",
       "region                             \n",
       "ингушетия                       0  \n",
       "карачаево-черкесская            0  \n",
       "якутия                          0  "
      ]
     },
     "execution_count": 91,
     "metadata": {},
     "output_type": "execute_result"
    }
   ],
   "source": [
    "stat_counts[stat_counts['fond_numbers'] == 0]"
   ]
  },
  {
   "cell_type": "code",
   "execution_count": 61,
   "metadata": {},
   "outputs": [],
   "source": [
    "field_nregions = {'indicator': [], 'value': []}\n",
    "\n",
    "for column in stat_counts.columns:\n",
    "    df = stat_counts[stat_counts[column] > 0]\n",
    "    field_nregions['indicator'].append(column)\n",
    "    field_nregions['value'].append(df.shape[0])\n",
    "    "
   ]
  },
  {
   "cell_type": "code",
   "execution_count": 67,
   "metadata": {},
   "outputs": [
    {
     "data": {
      "text/html": [
       "<div>\n",
       "<style scoped>\n",
       "    .dataframe tbody tr th:only-of-type {\n",
       "        vertical-align: middle;\n",
       "    }\n",
       "\n",
       "    .dataframe tbody tr th {\n",
       "        vertical-align: top;\n",
       "    }\n",
       "\n",
       "    .dataframe thead th {\n",
       "        text-align: right;\n",
       "    }\n",
       "</style>\n",
       "<table border=\"1\" class=\"dataframe\">\n",
       "  <thead>\n",
       "    <tr style=\"text-align: right;\">\n",
       "      <th></th>\n",
       "      <th>indicator</th>\n",
       "      <th>value</th>\n",
       "      <th>per</th>\n",
       "    </tr>\n",
       "  </thead>\n",
       "  <tbody>\n",
       "    <tr>\n",
       "      <th>0</th>\n",
       "      <td>library_id</td>\n",
       "      <td>84</td>\n",
       "      <td>98.823529</td>\n",
       "    </tr>\n",
       "    <tr>\n",
       "      <th>1</th>\n",
       "      <td>open_year</td>\n",
       "      <td>83</td>\n",
       "      <td>97.647059</td>\n",
       "    </tr>\n",
       "    <tr>\n",
       "      <th>2</th>\n",
       "      <td>fond_numbers</td>\n",
       "      <td>81</td>\n",
       "      <td>95.294118</td>\n",
       "    </tr>\n",
       "    <tr>\n",
       "      <th>3</th>\n",
       "      <td>n_readers</td>\n",
       "      <td>81</td>\n",
       "      <td>95.294118</td>\n",
       "    </tr>\n",
       "    <tr>\n",
       "      <th>4</th>\n",
       "      <td>visits_month</td>\n",
       "      <td>75</td>\n",
       "      <td>88.235294</td>\n",
       "    </tr>\n",
       "    <tr>\n",
       "      <th>6</th>\n",
       "      <td>area_surface</td>\n",
       "      <td>66</td>\n",
       "      <td>77.647059</td>\n",
       "    </tr>\n",
       "    <tr>\n",
       "      <th>5</th>\n",
       "      <td>servise_area</td>\n",
       "      <td>18</td>\n",
       "      <td>21.176471</td>\n",
       "    </tr>\n",
       "    <tr>\n",
       "      <th>8</th>\n",
       "      <td>public_area</td>\n",
       "      <td>9</td>\n",
       "      <td>10.588235</td>\n",
       "    </tr>\n",
       "    <tr>\n",
       "      <th>7</th>\n",
       "      <td>book_storage</td>\n",
       "      <td>7</td>\n",
       "      <td>8.235294</td>\n",
       "    </tr>\n",
       "  </tbody>\n",
       "</table>\n",
       "</div>"
      ],
      "text/plain": [
       "      indicator  value        per\n",
       "0    library_id     84  98.823529\n",
       "1     open_year     83  97.647059\n",
       "2  fond_numbers     81  95.294118\n",
       "3     n_readers     81  95.294118\n",
       "4  visits_month     75  88.235294\n",
       "6  area_surface     66  77.647059\n",
       "5  servise_area     18  21.176471\n",
       "8   public_area      9  10.588235\n",
       "7  book_storage      7   8.235294"
      ]
     },
     "execution_count": 67,
     "metadata": {},
     "output_type": "execute_result"
    }
   ],
   "source": [
    "region_counts_fields = pd.DataFrame(field_nregions)\n",
    "region_counts_fields['per'] = (region_counts_fields['value']/85)*100\n",
    "region_counts_fields.sort_values('value', ascending=False)"
   ]
  },
  {
   "cell_type": "markdown",
   "metadata": {},
   "source": [
    "##### Лидеры по представлению информации"
   ]
  },
  {
   "cell_type": "code",
   "execution_count": 92,
   "metadata": {},
   "outputs": [],
   "source": [
    "nlibr_count = Counter(LIBR['region'])"
   ]
  },
  {
   "cell_type": "code",
   "execution_count": 95,
   "metadata": {},
   "outputs": [],
   "source": [
    "nlibr = [nlibr_count[i] for i in stat_counts.index]"
   ]
  },
  {
   "cell_type": "code",
   "execution_count": 99,
   "metadata": {},
   "outputs": [],
   "source": [
    "max_values = {'field': [], 'max': []}\n",
    "for column in stat_counts.columns:\n",
    "    stat_counts[column] = stat_counts[column]/nlibr\n",
    "    index = stat_counts[column].argmax()\n",
    "    reg = stat_counts.index[index]\n",
    "    max_values['field'].append(column)\n",
    "    max_values['max'].append(reg)"
   ]
  },
  {
   "cell_type": "code",
   "execution_count": 100,
   "metadata": {},
   "outputs": [
    {
     "data": {
      "text/html": [
       "<div>\n",
       "<style scoped>\n",
       "    .dataframe tbody tr th:only-of-type {\n",
       "        vertical-align: middle;\n",
       "    }\n",
       "\n",
       "    .dataframe tbody tr th {\n",
       "        vertical-align: top;\n",
       "    }\n",
       "\n",
       "    .dataframe thead th {\n",
       "        text-align: right;\n",
       "    }\n",
       "</style>\n",
       "<table border=\"1\" class=\"dataframe\">\n",
       "  <thead>\n",
       "    <tr style=\"text-align: right;\">\n",
       "      <th></th>\n",
       "      <th>field</th>\n",
       "      <th>max</th>\n",
       "    </tr>\n",
       "  </thead>\n",
       "  <tbody>\n",
       "    <tr>\n",
       "      <th>0</th>\n",
       "      <td>library_id</td>\n",
       "      <td>адыгея</td>\n",
       "    </tr>\n",
       "    <tr>\n",
       "      <th>1</th>\n",
       "      <td>open_year</td>\n",
       "      <td>ненецкий</td>\n",
       "    </tr>\n",
       "    <tr>\n",
       "      <th>2</th>\n",
       "      <td>fond_numbers</td>\n",
       "      <td>калмыкия</td>\n",
       "    </tr>\n",
       "    <tr>\n",
       "      <th>3</th>\n",
       "      <td>izba</td>\n",
       "      <td>белгородская</td>\n",
       "    </tr>\n",
       "    <tr>\n",
       "      <th>4</th>\n",
       "      <td>n_readers</td>\n",
       "      <td>липецкая</td>\n",
       "    </tr>\n",
       "    <tr>\n",
       "      <th>5</th>\n",
       "      <td>visits_month</td>\n",
       "      <td>карачаево-черкесская</td>\n",
       "    </tr>\n",
       "    <tr>\n",
       "      <th>6</th>\n",
       "      <td>servise_area</td>\n",
       "      <td>пензенская</td>\n",
       "    </tr>\n",
       "    <tr>\n",
       "      <th>7</th>\n",
       "      <td>area_surface</td>\n",
       "      <td>ненецкий</td>\n",
       "    </tr>\n",
       "    <tr>\n",
       "      <th>8</th>\n",
       "      <td>book_storage</td>\n",
       "      <td>московская</td>\n",
       "    </tr>\n",
       "    <tr>\n",
       "      <th>9</th>\n",
       "      <td>public_area</td>\n",
       "      <td>московская</td>\n",
       "    </tr>\n",
       "    <tr>\n",
       "      <th>10</th>\n",
       "      <td>litr_genres</td>\n",
       "      <td>коми</td>\n",
       "    </tr>\n",
       "  </tbody>\n",
       "</table>\n",
       "</div>"
      ],
      "text/plain": [
       "           field                   max\n",
       "0     library_id                адыгея\n",
       "1      open_year              ненецкий\n",
       "2   fond_numbers              калмыкия\n",
       "3           izba          белгородская\n",
       "4      n_readers              липецкая\n",
       "5   visits_month  карачаево-черкесская\n",
       "6   servise_area            пензенская\n",
       "7   area_surface              ненецкий\n",
       "8   book_storage            московская\n",
       "9    public_area            московская\n",
       "10   litr_genres                  коми"
      ]
     },
     "execution_count": 100,
     "metadata": {},
     "output_type": "execute_result"
    }
   ],
   "source": [
    "pd.DataFrame(max_values)"
   ]
  },
  {
   "cell_type": "markdown",
   "metadata": {},
   "source": [
    "# Кто не указал вообще никакой информации"
   ]
  },
  {
   "cell_type": "code",
   "execution_count": 105,
   "metadata": {},
   "outputs": [],
   "source": [
    "filling_activity = stat_counts.sum(axis=1).reset_index()"
   ]
  },
  {
   "cell_type": "code",
   "execution_count": 106,
   "metadata": {},
   "outputs": [
    {
     "data": {
      "text/html": [
       "<div>\n",
       "<style scoped>\n",
       "    .dataframe tbody tr th:only-of-type {\n",
       "        vertical-align: middle;\n",
       "    }\n",
       "\n",
       "    .dataframe tbody tr th {\n",
       "        vertical-align: top;\n",
       "    }\n",
       "\n",
       "    .dataframe thead th {\n",
       "        text-align: right;\n",
       "    }\n",
       "</style>\n",
       "<table border=\"1\" class=\"dataframe\">\n",
       "  <thead>\n",
       "    <tr style=\"text-align: right;\">\n",
       "      <th></th>\n",
       "      <th>region</th>\n",
       "      <th>0</th>\n",
       "    </tr>\n",
       "  </thead>\n",
       "  <tbody>\n",
       "    <tr>\n",
       "      <th>0</th>\n",
       "      <td>адыгея</td>\n",
       "      <td>3.350000</td>\n",
       "    </tr>\n",
       "    <tr>\n",
       "      <th>1</th>\n",
       "      <td>алтай</td>\n",
       "      <td>2.200000</td>\n",
       "    </tr>\n",
       "    <tr>\n",
       "      <th>2</th>\n",
       "      <td>алтайский</td>\n",
       "      <td>2.984127</td>\n",
       "    </tr>\n",
       "    <tr>\n",
       "      <th>3</th>\n",
       "      <td>амурская</td>\n",
       "      <td>3.120000</td>\n",
       "    </tr>\n",
       "    <tr>\n",
       "      <th>4</th>\n",
       "      <td>архангельская</td>\n",
       "      <td>2.988636</td>\n",
       "    </tr>\n",
       "  </tbody>\n",
       "</table>\n",
       "</div>"
      ],
      "text/plain": [
       "          region         0\n",
       "0         адыгея  3.350000\n",
       "1          алтай  2.200000\n",
       "2      алтайский  2.984127\n",
       "3       амурская  3.120000\n",
       "4  архангельская  2.988636"
      ]
     },
     "execution_count": 106,
     "metadata": {},
     "output_type": "execute_result"
    }
   ],
   "source": [
    "filling_activity.head()"
   ]
  },
  {
   "cell_type": "code",
   "execution_count": 108,
   "metadata": {},
   "outputs": [],
   "source": [
    "filling_activity.to_csv('region_field_activity.csv', sep=';')"
   ]
  },
  {
   "cell_type": "markdown",
   "metadata": {},
   "source": [
    "## Типы библиотек в зависимости от размера фонда"
   ]
  },
  {
   "cell_type": "code",
   "execution_count": 54,
   "metadata": {},
   "outputs": [],
   "source": [
    "def libry_fond_type(fond):\n",
    "    value = None\n",
    "    if isinstance(fond, float):\n",
    "        if fond < 50000: value = 'малые'\n",
    "        elif fond >= 50000 and fond < 200000: value = 'небольшие'\n",
    "        elif fond >= 200000 and fond < 1000000: value = 'средние'\n",
    "        elif fond >= 1000000 and fond < 5000000: value = 'крупные'\n",
    "        elif fond >= 5000000: value = 'крупнейшие'\n",
    "    return value"
   ]
  },
  {
   "cell_type": "code",
   "execution_count": 55,
   "metadata": {},
   "outputs": [],
   "source": [
    "LIBR['libr_fond_type'] = LIBR['fond_numbers'].apply(libry_fond_type)"
   ]
  },
  {
   "cell_type": "code",
   "execution_count": 56,
   "metadata": {},
   "outputs": [],
   "source": [
    "d = defaultdict(int)\n",
    "\n",
    "for index in LIBR.index:\n",
    "    fond = LIBR['libr_fond_type'][index]\n",
    "    if fond:\n",
    "        if 'сельская' in data['Название'][index].lower():\n",
    "            d[fond] += 1\n",
    "    "
   ]
  },
  {
   "cell_type": "code",
   "execution_count": 48,
   "metadata": {},
   "outputs": [],
   "source": [
    "with open('Типы библиотек/selo.txt', 'r') as f:\n",
    "    selo = f.read()\n",
    "    selo = selo.split(',')\n",
    "    selo = [int(i) for i in selo]"
   ]
  },
  {
   "cell_type": "code",
   "execution_count": 48,
   "metadata": {},
   "outputs": [
    {
     "data": {
      "image/png": "[encoded data removed]",
      "text/plain": [
       "<Figure size 1296x576 with 1 Axes>"
      ]
     },
     "metadata": {
      "needs_background": "light"
     },
     "output_type": "display_data"
    }
   ],
   "source": [
    "fig = plt.figure(figsize = (18, 8))\n",
    "ax = fig.gca()\n",
    "df.plot.bar(rot=0, color='skyblue', ax=ax)\n",
    "plt.xlabel('Размер фонда')\n",
    "plt.ylabel('Количество')\n",
    "plt.title('Количество библиотеки в зависимости от размера фонда')\n",
    "ax.set_axisbelow(True)\n",
    "ax.yaxis.grid(color='gainsboro', linestyle='dashed')\n",
    "ax.xaxis.grid(color='gainsboro', linestyle='dashed')\n",
    "plt.savefig(plot_path + 'libr_fond_types' + \".svg\", format='svg', dpi=1200)"
   ]
  },
  {
   "cell_type": "markdown",
   "metadata": {},
   "source": [
    "## Заполненность "
   ]
  },
  {
   "cell_type": "code",
   "execution_count": 343,
   "metadata": {},
   "outputs": [],
   "source": [
    "libr_stat_count = LIBR.count().reset_index()\n",
    "libr_stat_count['persent'] = np.round((libr_stat_count[0]/nrows) * 100, 3)"
   ]
  },
  {
   "cell_type": "code",
   "execution_count": 344,
   "metadata": {},
   "outputs": [
    {
     "data": {
      "text/html": [
       "<div>\n",
       "<style scoped>\n",
       "    .dataframe tbody tr th:only-of-type {\n",
       "        vertical-align: middle;\n",
       "    }\n",
       "\n",
       "    .dataframe tbody tr th {\n",
       "        vertical-align: top;\n",
       "    }\n",
       "\n",
       "    .dataframe thead th {\n",
       "        text-align: right;\n",
       "    }\n",
       "</style>\n",
       "<table border=\"1\" class=\"dataframe\">\n",
       "  <thead>\n",
       "    <tr style=\"text-align: right;\">\n",
       "      <th></th>\n",
       "      <th>index</th>\n",
       "      <th>0</th>\n",
       "      <th>persent</th>\n",
       "    </tr>\n",
       "  </thead>\n",
       "  <tbody>\n",
       "    <tr>\n",
       "      <th>0</th>\n",
       "      <td>library_id</td>\n",
       "      <td>9546</td>\n",
       "      <td>100.000</td>\n",
       "    </tr>\n",
       "    <tr>\n",
       "      <th>1</th>\n",
       "      <td>open_year</td>\n",
       "      <td>3888</td>\n",
       "      <td>40.729</td>\n",
       "    </tr>\n",
       "    <tr>\n",
       "      <th>2</th>\n",
       "      <td>fond_numbers</td>\n",
       "      <td>4916</td>\n",
       "      <td>51.498</td>\n",
       "    </tr>\n",
       "    <tr>\n",
       "      <th>3</th>\n",
       "      <td>izba</td>\n",
       "      <td>850</td>\n",
       "      <td>8.904</td>\n",
       "    </tr>\n",
       "    <tr>\n",
       "      <th>4</th>\n",
       "      <td>n_readers</td>\n",
       "      <td>3722</td>\n",
       "      <td>38.990</td>\n",
       "    </tr>\n",
       "    <tr>\n",
       "      <th>5</th>\n",
       "      <td>visits_month</td>\n",
       "      <td>1019</td>\n",
       "      <td>10.675</td>\n",
       "    </tr>\n",
       "    <tr>\n",
       "      <th>6</th>\n",
       "      <td>servise_area</td>\n",
       "      <td>63</td>\n",
       "      <td>0.660</td>\n",
       "    </tr>\n",
       "    <tr>\n",
       "      <th>7</th>\n",
       "      <td>area_surface</td>\n",
       "      <td>724</td>\n",
       "      <td>7.584</td>\n",
       "    </tr>\n",
       "    <tr>\n",
       "      <th>8</th>\n",
       "      <td>public_area</td>\n",
       "      <td>28</td>\n",
       "      <td>0.293</td>\n",
       "    </tr>\n",
       "    <tr>\n",
       "      <th>9</th>\n",
       "      <td>book_storage</td>\n",
       "      <td>15</td>\n",
       "      <td>0.157</td>\n",
       "    </tr>\n",
       "    <tr>\n",
       "      <th>10</th>\n",
       "      <td>litr_genres</td>\n",
       "      <td>34</td>\n",
       "      <td>0.356</td>\n",
       "    </tr>\n",
       "  </tbody>\n",
       "</table>\n",
       "</div>"
      ],
      "text/plain": [
       "           index     0  persent\n",
       "0     library_id  9546  100.000\n",
       "1      open_year  3888   40.729\n",
       "2   fond_numbers  4916   51.498\n",
       "3           izba   850    8.904\n",
       "4      n_readers  3722   38.990\n",
       "5   visits_month  1019   10.675\n",
       "6   servise_area    63    0.660\n",
       "7   area_surface   724    7.584\n",
       "8    public_area    28    0.293\n",
       "9   book_storage    15    0.157\n",
       "10   litr_genres    34    0.356"
      ]
     },
     "execution_count": 344,
     "metadata": {},
     "output_type": "execute_result"
    }
   ],
   "source": [
    "libr_stat_count"
   ]
  },
  {
   "cell_type": "markdown",
   "metadata": {},
   "source": [
    "# Называют ли новые библиотеки в честь спонсоров и меценатов"
   ]
  },
  {
   "cell_type": "code",
   "execution_count": 30,
   "metadata": {},
   "outputs": [],
   "source": [
    "import pickle\n",
    "\n",
    "with open('libr_pers_prof.pickle', 'rb') as f:\n",
    "     libr_pers_prof = pickle.load(f)"
   ]
  },
  {
   "cell_type": "code",
   "execution_count": 32,
   "metadata": {},
   "outputs": [],
   "source": [
    "opend_prof = {'date': [], 'prof': [], 'name': []}\n",
    "\n",
    "for libr_index in libr_pers_prof:\n",
    "    openDate = LIBRINFO['open_year'][libr_index]\n",
    "    if openDate and openDate > 1990:\n",
    "        for prof in libr_pers_prof[libr_index][0]:\n",
    "            opend_prof['date'].append(openDate)\n",
    "            opend_prof['prof'].append(prof)\n",
    "            opend_prof['name'].append(libr_pers_prof[libr_index][1])"
   ]
  },
  {
   "cell_type": "code",
   "execution_count": 33,
   "metadata": {},
   "outputs": [
    {
     "data": {
      "text/html": [
       "<div>\n",
       "<style scoped>\n",
       "    .dataframe tbody tr th:only-of-type {\n",
       "        vertical-align: middle;\n",
       "    }\n",
       "\n",
       "    .dataframe tbody tr th {\n",
       "        vertical-align: top;\n",
       "    }\n",
       "\n",
       "    .dataframe thead th {\n",
       "        text-align: right;\n",
       "    }\n",
       "</style>\n",
       "<table border=\"1\" class=\"dataframe\">\n",
       "  <thead>\n",
       "    <tr style=\"text-align: right;\">\n",
       "      <th></th>\n",
       "      <th>date</th>\n",
       "      <th>prof</th>\n",
       "      <th>name</th>\n",
       "    </tr>\n",
       "  </thead>\n",
       "  <tbody>\n",
       "    <tr>\n",
       "      <th>0</th>\n",
       "      <td>2007</td>\n",
       "      <td>literature</td>\n",
       "      <td>адрианов, ю., а.</td>\n",
       "    </tr>\n",
       "    <tr>\n",
       "      <th>1</th>\n",
       "      <td>2010</td>\n",
       "      <td>literature</td>\n",
       "      <td>грин, а., с.</td>\n",
       "    </tr>\n",
       "    <tr>\n",
       "      <th>2</th>\n",
       "      <td>1994</td>\n",
       "      <td>education</td>\n",
       "      <td>ерошенко, в., я.</td>\n",
       "    </tr>\n",
       "    <tr>\n",
       "      <th>3</th>\n",
       "      <td>1991</td>\n",
       "      <td>education</td>\n",
       "      <td>зайцева, н., а.</td>\n",
       "    </tr>\n",
       "    <tr>\n",
       "      <th>4</th>\n",
       "      <td>2016</td>\n",
       "      <td>journalism</td>\n",
       "      <td>карамзина, н., м.</td>\n",
       "    </tr>\n",
       "    <tr>\n",
       "      <th>5</th>\n",
       "      <td>1992</td>\n",
       "      <td>science</td>\n",
       "      <td>петряева, е., д.</td>\n",
       "    </tr>\n",
       "    <tr>\n",
       "      <th>6</th>\n",
       "      <td>2003</td>\n",
       "      <td>science</td>\n",
       "      <td>пирожников, г., а.</td>\n",
       "    </tr>\n",
       "    <tr>\n",
       "      <th>7</th>\n",
       "      <td>1996</td>\n",
       "      <td>literature</td>\n",
       "      <td>полевой</td>\n",
       "    </tr>\n",
       "    <tr>\n",
       "      <th>8</th>\n",
       "      <td>2016</td>\n",
       "      <td>literature</td>\n",
       "      <td>пришвин, м., м.</td>\n",
       "    </tr>\n",
       "    <tr>\n",
       "      <th>9</th>\n",
       "      <td>2014</td>\n",
       "      <td>film and theatre</td>\n",
       "      <td>пушкин, а., с.</td>\n",
       "    </tr>\n",
       "    <tr>\n",
       "      <th>10</th>\n",
       "      <td>2016</td>\n",
       "      <td>military service</td>\n",
       "      <td>солженицын, а., и.</td>\n",
       "    </tr>\n",
       "    <tr>\n",
       "      <th>11</th>\n",
       "      <td>2006</td>\n",
       "      <td>film and theatre</td>\n",
       "      <td>тургенев, и., с.</td>\n",
       "    </tr>\n",
       "    <tr>\n",
       "      <th>12</th>\n",
       "      <td>1996</td>\n",
       "      <td>science</td>\n",
       "      <td>чаплина, в.</td>\n",
       "    </tr>\n",
       "    <tr>\n",
       "      <th>13</th>\n",
       "      <td>1996</td>\n",
       "      <td>biology</td>\n",
       "      <td>чаплина, в.</td>\n",
       "    </tr>\n",
       "    <tr>\n",
       "      <th>14</th>\n",
       "      <td>2014</td>\n",
       "      <td>journalism</td>\n",
       "      <td>чуковский, к., и.</td>\n",
       "    </tr>\n",
       "    <tr>\n",
       "      <th>15</th>\n",
       "      <td>2009</td>\n",
       "      <td>law and economics</td>\n",
       "      <td>юргенсон, п., и.</td>\n",
       "    </tr>\n",
       "  </tbody>\n",
       "</table>\n",
       "</div>"
      ],
      "text/plain": [
       "    date               prof                name\n",
       "0   2007         literature    адрианов, ю., а.\n",
       "1   2010         literature        грин, а., с.\n",
       "2   1994          education    ерошенко, в., я.\n",
       "3   1991          education     зайцева, н., а.\n",
       "4   2016         journalism   карамзина, н., м.\n",
       "5   1992            science    петряева, е., д.\n",
       "6   2003            science  пирожников, г., а.\n",
       "7   1996         literature             полевой\n",
       "8   2016         literature     пришвин, м., м.\n",
       "9   2014   film and theatre      пушкин, а., с.\n",
       "10  2016   military service  солженицын, а., и.\n",
       "11  2006   film and theatre    тургенев, и., с.\n",
       "12  1996            science         чаплина, в.\n",
       "13  1996            biology         чаплина, в.\n",
       "14  2014         journalism   чуковский, к., и.\n",
       "15  2009  law and economics    юргенсон, п., и."
      ]
     },
     "execution_count": 33,
     "metadata": {},
     "output_type": "execute_result"
    }
   ],
   "source": [
    "pd.DataFrame(opend_prof)"
   ]
  },
  {
   "cell_type": "markdown",
   "metadata": {},
   "source": [
    "# Зависимость типа от фонда"
   ]
  },
  {
   "cell_type": "code",
   "execution_count": 66,
   "metadata": {},
   "outputs": [],
   "source": [
    "from scipy.stats import chi2_contingency"
   ]
  },
  {
   "cell_type": "code",
   "execution_count": 48,
   "metadata": {},
   "outputs": [],
   "source": [
    "type_index_path = 'Типы библиотек/types_libr.csv'\n",
    "type_index = pd.read_csv(type_index_path, sep=';')\n",
    "type_index['len'] = type_index.inds.apply(len)\n",
    "type_index = type_index.sort_values('len', ascending=False)"
   ]
  },
  {
   "cell_type": "code",
   "execution_count": 50,
   "metadata": {},
   "outputs": [],
   "source": [
    "area_type = type_index[type_index['type'] == 'area']"
   ]
  },
  {
   "cell_type": "code",
   "execution_count": 63,
   "metadata": {},
   "outputs": [],
   "source": [
    "vec = [None] * LIBR.shape[0]\n",
    "\n",
    "for index in area_type.index: \n",
    "    typ = area_type.loc[index]['name']\n",
    "    for ind in area_type.loc[index]['inds'].split(','):\n",
    "        vec[int(ind)] = typ\n",
    "    "
   ]
  },
  {
   "cell_type": "code",
   "execution_count": 64,
   "metadata": {},
   "outputs": [],
   "source": [
    "LIBR['typ'] = vec"
   ]
  },
  {
   "cell_type": "code",
   "execution_count": null,
   "metadata": {},
   "outputs": [],
   "source": [
    "chi2, p, dof, expected = chi2_contingency(observed)"
   ]
  },
  {
   "cell_type": "code",
   "execution_count": 71,
   "metadata": {},
   "outputs": [],
   "source": [
    "l2 = LIBR.dropna(subset=['typ', 'libr_fond_type'])"
   ]
  },
  {
   "cell_type": "code",
   "execution_count": 75,
   "metadata": {},
   "outputs": [
    {
     "data": {
      "text/html": [
       "<div>\n",
       "<style scoped>\n",
       "    .dataframe tbody tr th:only-of-type {\n",
       "        vertical-align: middle;\n",
       "    }\n",
       "\n",
       "    .dataframe tbody tr th {\n",
       "        vertical-align: top;\n",
       "    }\n",
       "\n",
       "    .dataframe thead th {\n",
       "        text-align: right;\n",
       "    }\n",
       "</style>\n",
       "<table border=\"1\" class=\"dataframe\">\n",
       "  <thead>\n",
       "    <tr style=\"text-align: right;\">\n",
       "      <th>typ</th>\n",
       "      <th>городской</th>\n",
       "      <th>земский</th>\n",
       "      <th>зональный</th>\n",
       "      <th>межмуниципальный</th>\n",
       "      <th>межпоселенческий</th>\n",
       "      <th>муниципальный</th>\n",
       "      <th>областной</th>\n",
       "      <th>поселенческий</th>\n",
       "      <th>поселковый</th>\n",
       "      <th>районный</th>\n",
       "      <th>региональный</th>\n",
       "      <th>республиканский</th>\n",
       "      <th>сельский</th>\n",
       "    </tr>\n",
       "    <tr>\n",
       "      <th>libr_fond_type</th>\n",
       "      <th></th>\n",
       "      <th></th>\n",
       "      <th></th>\n",
       "      <th></th>\n",
       "      <th></th>\n",
       "      <th></th>\n",
       "      <th></th>\n",
       "      <th></th>\n",
       "      <th></th>\n",
       "      <th></th>\n",
       "      <th></th>\n",
       "      <th></th>\n",
       "      <th></th>\n",
       "    </tr>\n",
       "  </thead>\n",
       "  <tbody>\n",
       "    <tr>\n",
       "      <th>крупнейшие</th>\n",
       "      <td>3.0</td>\n",
       "      <td>NaN</td>\n",
       "      <td>NaN</td>\n",
       "      <td>NaN</td>\n",
       "      <td>2.0</td>\n",
       "      <td>NaN</td>\n",
       "      <td>1.0</td>\n",
       "      <td>NaN</td>\n",
       "      <td>NaN</td>\n",
       "      <td>1.0</td>\n",
       "      <td>1.0</td>\n",
       "      <td>NaN</td>\n",
       "      <td>13.0</td>\n",
       "    </tr>\n",
       "    <tr>\n",
       "      <th>крупные</th>\n",
       "      <td>3.0</td>\n",
       "      <td>NaN</td>\n",
       "      <td>NaN</td>\n",
       "      <td>NaN</td>\n",
       "      <td>1.0</td>\n",
       "      <td>NaN</td>\n",
       "      <td>5.0</td>\n",
       "      <td>NaN</td>\n",
       "      <td>NaN</td>\n",
       "      <td>3.0</td>\n",
       "      <td>NaN</td>\n",
       "      <td>NaN</td>\n",
       "      <td>1.0</td>\n",
       "    </tr>\n",
       "    <tr>\n",
       "      <th>малые</th>\n",
       "      <td>226.0</td>\n",
       "      <td>1.0</td>\n",
       "      <td>NaN</td>\n",
       "      <td>NaN</td>\n",
       "      <td>58.0</td>\n",
       "      <td>23.0</td>\n",
       "      <td>3.0</td>\n",
       "      <td>86.0</td>\n",
       "      <td>32.0</td>\n",
       "      <td>127.0</td>\n",
       "      <td>NaN</td>\n",
       "      <td>2.0</td>\n",
       "      <td>1489.0</td>\n",
       "    </tr>\n",
       "    <tr>\n",
       "      <th>небольшие</th>\n",
       "      <td>99.0</td>\n",
       "      <td>NaN</td>\n",
       "      <td>1.0</td>\n",
       "      <td>2.0</td>\n",
       "      <td>50.0</td>\n",
       "      <td>5.0</td>\n",
       "      <td>19.0</td>\n",
       "      <td>3.0</td>\n",
       "      <td>1.0</td>\n",
       "      <td>50.0</td>\n",
       "      <td>NaN</td>\n",
       "      <td>5.0</td>\n",
       "      <td>27.0</td>\n",
       "    </tr>\n",
       "    <tr>\n",
       "      <th>средние</th>\n",
       "      <td>11.0</td>\n",
       "      <td>NaN</td>\n",
       "      <td>NaN</td>\n",
       "      <td>NaN</td>\n",
       "      <td>12.0</td>\n",
       "      <td>2.0</td>\n",
       "      <td>5.0</td>\n",
       "      <td>NaN</td>\n",
       "      <td>NaN</td>\n",
       "      <td>13.0</td>\n",
       "      <td>NaN</td>\n",
       "      <td>2.0</td>\n",
       "      <td>3.0</td>\n",
       "    </tr>\n",
       "  </tbody>\n",
       "</table>\n",
       "</div>"
      ],
      "text/plain": [
       "typ             городской  земский  зональный  межмуниципальный  \\\n",
       "libr_fond_type                                                    \n",
       "крупнейшие            3.0      NaN        NaN               NaN   \n",
       "крупные               3.0      NaN        NaN               NaN   \n",
       "малые               226.0      1.0        NaN               NaN   \n",
       "небольшие            99.0      NaN        1.0               2.0   \n",
       "средние              11.0      NaN        NaN               NaN   \n",
       "\n",
       "typ             межпоселенческий  муниципальный  областной  поселенческий  \\\n",
       "libr_fond_type                                                              \n",
       "крупнейшие                   2.0            NaN        1.0            NaN   \n",
       "крупные                      1.0            NaN        5.0            NaN   \n",
       "малые                       58.0           23.0        3.0           86.0   \n",
       "небольшие                   50.0            5.0       19.0            3.0   \n",
       "средние                     12.0            2.0        5.0            NaN   \n",
       "\n",
       "typ             поселковый  районный  региональный  республиканский  сельский  \n",
       "libr_fond_type                                                                 \n",
       "крупнейшие             NaN       1.0           1.0              NaN      13.0  \n",
       "крупные                NaN       3.0           NaN              NaN       1.0  \n",
       "малые                 32.0     127.0           NaN              2.0    1489.0  \n",
       "небольшие              1.0      50.0           NaN              5.0      27.0  \n",
       "средние                NaN      13.0           NaN              2.0       3.0  "
      ]
     },
     "execution_count": 75,
     "metadata": {},
     "output_type": "execute_result"
    }
   ],
   "source": [
    "l2[['libr_fond_type', 'typ']].groupby(['libr_fond_type', 'typ']).size().unstack()"
   ]
  },
  {
   "cell_type": "code",
   "execution_count": null,
   "metadata": {},
   "outputs": [],
   "source": []
  }
 ],
 "metadata": {
  "kernelspec": {
   "display_name": "Python 3",
   "language": "python",
   "name": "python3"
  },
  "language_info": {
   "codemirror_mode": {
    "name": "ipython",
    "version": 3
   },
   "file_extension": ".py",
   "mimetype": "text/x-python",
   "name": "python",
   "nbconvert_exporter": "python",
   "pygments_lexer": "ipython3",
   "version": "3.6.5"
  }
 },
 "nbformat": 4,
 "nbformat_minor": 2
}
